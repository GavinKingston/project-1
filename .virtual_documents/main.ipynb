# Import Libraries

def get_user_input():

def read_yahoo_api_data(ticker): # David

def read_crypto_data(ticker): # Gavin 

def clean_data(data):

def generate_predictions(ticker, data):

def generate_graphs(ticker, data): # Rob 

# Research Dashboard GUI - Jaime

def main():
    ticker = get_user_input()
    data = read_yahoo_api_data(ticker)
    data = clean_data(data)
    generate_predictions(ticker, data)
    generate_graphs(ticker, data)


# Install the Yahoo Finance library
!pip install yfinance


# Import the Yahoo Finance library
import yfinance as yf


# Call the Ticker module with user inputed ticker value
msft = yf.Ticker("MSFT")
msft.info


# Create a DataFrame with the financial history of one ticker value within the designated period
# validRanges: ['1d','5d','1mo','3mo','6mo','1y','2y','5y','10y','ytd','max']
msft_hist = msft.history(period="1mo")
msft_hist


# Create a DataFrame with the financial history of multiple ticker values within the designated period
# validRanges: ['1d','5d','1mo','3mo','6mo','1y','2y','5y','10y','ytd','max']
multi_ticker = yf.download("SPY AAPL", period="1mo")
multi_ticker


# Some interesting calls that we could use
# msft.news
# msft.recommendations
# msft.income_stmt
# msft.balance_sheet





