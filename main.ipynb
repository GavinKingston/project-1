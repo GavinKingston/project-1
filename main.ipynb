{
 "cells": [
  {
   "cell_type": "code",
   "execution_count": null,
   "metadata": {},
   "outputs": [],
   "source": [
    "# Import Libraries\n",
    "\n",
    "def get_user_input():\n",
    "\n",
    "def read_yahoo_api_data(ticker): # David\n",
    "\n",
    "def read_crypto_data(ticker): # Gavin \n",
    "\n",
    "def clean_data(data):\n",
    "\n",
    "def generate_predictions(ticker, data):\n",
    "\n",
    "def generate_graphs(ticker, data): # Rob \n",
    "\n",
    "# Research Dashboard GUI - Jaime\n",
    "\n",
    "def main():\n",
    "    ticker = get_user_input()\n",
    "    data = read_yahoo_api_data(ticker)\n",
    "    data = clean_data(data)\n",
    "    generate_predictions(ticker, data)\n",
    "    generate_graphs(ticker, data)"
   ]
  }
 ],
 "metadata": {
  "language_info": {
   "name": "python"
  }
 },
 "nbformat": 4,
 "nbformat_minor": 2
}
