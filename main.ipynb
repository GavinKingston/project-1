{
 "cells": [
  {
   "cell_type": "code",
   "execution_count": null,
   "metadata": {},
   "outputs": [],
   "source": [
    "!pip install seaborn mplfinance"
   ]
  },
  {
   "cell_type": "code",
   "execution_count": null,
   "metadata": {},
   "outputs": [],
   "source": [
    "# Import Libraries\n",
    "\n",
    "def get_user_input():\n",
    "\n",
    "def read_yahoo_api_data(ticker): # David\n",
    "\n",
    "def read_crypto_data(ticker): # Gavin \n",
    "\n",
    "def clean_data(data):\n",
    "\n",
    "def generate_predictions(ticker, data):\n",
    "\n",
    "def generate_graphs(ticker, data): # Rob \n",
    "\n",
    "# Research Dashboard GUI - Jaime\n",
    "\n",
    "def main():\n",
    "    ticker = get_user_input()\n",
    "    data = read_yahoo_api_data(ticker)\n",
    "    data = clean_data(data)\n",
    "    generate_predictions(ticker, data)\n",
    "    generate_graphs(ticker, data)"
   ]
  },
  {
   "cell_type": "code",
   "execution_count": null,
   "metadata": {},
   "outputs": [],
   "source": [
    "import pandas as pd\n",
    "import mplfinance as mpf\n",
    "\n",
    "# Sample data (replace this with your own DataFrame)\n",
    "data = pd.DataFrame({\n",
    "    'Date': pd.date_range(start='2022-01-01', periods=30),\n",
    "    'Open': [100, 105, 110, 108, 112, 115, 113, 116, 120, 125, \n",
    "             123, 128, 130, 132, 131, 128, 125, 127, 123, 122,\n",
    "             120, 121, 124, 123, 120, 118, 115, 116, 112, 110],\n",
    "    'High': [105, 110, 115, 113, 116, 118, 115, 118, 122, 127,\n",
    "             125, 130, 132, 134, 133, 130, 128, 130, 125, 123,\n",
    "             122, 125, 127, 125, 123, 120, 118, 120, 115, 114],\n",
    "    'Low': [98, 103, 108, 105, 110, 112, 110, 112, 116, 120,\n",
    "            118, 123, 125, 128, 127, 124, 121, 123, 118, 117,\n",
    "            116, 118, 120, 119, 118, 115, 112, 110, 108, 107],\n",
    "    'Close': [102, 108, 113, 111, 114, 116, 114, 118, 121, 126,\n",
    "              124, 129, 131, 133, 132, 129, 126, 128, 124, 122,\n",
    "              121, 124, 126, 124, 121, 119, 116, 118, 113, 112]\n",
    "})\n",
    "\n",
    "# Set the 'Date' column as the index\n",
    "data.set_index('Date', inplace=True)\n",
    "\n",
    "# Plotting the candlestick chart\n",
    "mpf.plot(data, type='candlestick', volume=False)\n"
   ]
  },
  {
   "cell_type": "code",
   "execution_count": null,
   "metadata": {},
   "outputs": [],
   "source": [
    "# Sample data (replace this with your own DataFrame)\n",
    "data = pd.DataFrame({\n",
    "    'Date': pd.date_range(start='2022-01-01', periods=30),\n",
    "    'Open': [100, 105, 110, 108, 112, 115, 113, 116, 120, 125, \n",
    "             123, 128, 130, 132, 131, 128, 125, 127, 123, 122,\n",
    "             120, 121, 124, 123, 120, 118, 115, 116, 112, 110],\n",
    "    'High': [105, 110, 115, 113, 116, 118, 115, 118, 122, 127,\n",
    "             125, 130, 132, 134, 133, 130, 128, 130, 125, 123,\n",
    "             122, 125, 127, 125, 123, 120, 118, 120, 115, 114],\n",
    "    'Low': [98, 103, 108, 105, 110, 112, 110, 112, 116, 120,\n",
    "            118, 123, 125, 128, 127, 124, 121, 123, 118, 117,\n",
    "            116, 118, 120, 119, 118, 115, 112, 110, 108, 107],\n",
    "    'Close': [102, 108, 113, 111, 114, 116, 114, 118, 121, 126,\n",
    "              124, 129, 131, 133, 132, 129, 126, 128, 124, 122,\n",
    "              121, 124, 126, 124, 121, 119, 116, 118, 113, 112]\n",
    "})\n",
    "\n",
    "# Set the 'Date' column as the index\n",
    "data.set_index('Date', inplace=True)\n",
    "\n",
    "data.plot(figsize=(10, 6))\n",
    "\n",
    "# Adding labels and title\n",
    "plt.title('Stock Price Movement')\n",
    "plt.xlabel('Date')\n",
    "plt.ylabel('Price')\n",
    "\n",
    "# Display the plot\n",
    "plt.show()"
   ]
  },
  {
   "cell_type": "code",
   "execution_count": null,
   "metadata": {},
   "outputs": [],
   "source": [
    "# Compute the 5-day moving average\n",
    "moving_avg = data['Close'].rolling(window=5).mean()\n",
    "\n",
    "# Plotting each column as separate lines\n",
    "data.plot(figsize=(10, 6))\n",
    "\n",
    "# Plotting the moving average\n",
    "plt.plot(moving_avg, color='red', label='5-Day Moving Average')\n",
    "\n",
    "# Adding labels and title\n",
    "plt.title('Stock Price Movement with 5-Day Moving Average')\n",
    "plt.xlabel('Date')\n",
    "plt.ylabel('Price')\n",
    "\n",
    "# Display the plot\n",
    "plt.legend()\n",
    "plt.show()"
   ]
  },
  {
   "cell_type": "code",
   "execution_count": null,
   "metadata": {},
   "outputs": [],
   "source": [
    "# Calculate the 5-day moving average\n",
    "moving_avg = data['Close'].rolling(window=5).mean()\n",
    "\n",
    "# Plot the candlestick chart\n",
    "mpf.plot(data, type='candle', style='charles', volume=False, \n",
    "         addplot=[mpf.make_addplot(moving_avg, scatter=True, markersize=50, marker='*', color='red')])"
   ]
  },
  {
   "cell_type": "code",
   "execution_count": null,
   "metadata": {},
   "outputs": [],
   "source": [
    "# import mplfinance as mpf\n",
    "moving_avg_window=15\n",
    "\n",
    "def generate_graphs(data, moving_avg_window):\n",
    "    # Calculate the moving average\n",
    "    moving_avg = data['Close'].rolling(window=moving_avg_window).mean()\n",
    "\n",
    "    # Plot the candlestick chart\n",
    "    mpf.plot(data, type='candle', style='charles', volume=False, \n",
    "             addplot=[mpf.make_addplot(moving_avg, scatter=True, markersize=100, marker='*', color='red')])\n",
    "\n",
    "generate_graphs(data, moving_avg_window)"
   ]
  }
 ],
 "metadata": {
  "kernelspec": {
   "display_name": "Python 3 (ipykernel)",
   "language": "python",
   "name": "python3"
  },
  "language_info": {
   "codemirror_mode": {
    "name": "ipython",
    "version": 3
   },
   "file_extension": ".py",
   "mimetype": "text/x-python",
   "name": "python",
   "nbconvert_exporter": "python",
   "pygments_lexer": "ipython3",
   "version": "3.10.13"
  }
 },
 "nbformat": 4,
 "nbformat_minor": 4
}
